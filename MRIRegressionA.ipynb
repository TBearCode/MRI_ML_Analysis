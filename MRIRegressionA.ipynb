{
  "nbformat": 4,
  "nbformat_minor": 0,
  "metadata": {
    "colab": {
      "provenance": []
    },
    "kernelspec": {
      "name": "python3",
      "display_name": "Python 3"
    },
    "language_info": {
      "name": "python"
    }
  },
  "cells": [
    {
      "cell_type": "code",
      "execution_count": null,
      "metadata": {
        "colab": {
          "base_uri": "https://localhost:8080/"
        },
        "id": "WMpk-2yTqyFn",
        "outputId": "f8674b21-4d45-4f43-f6b5-a9ab8724aaaf"
      },
      "outputs": [
        {
          "output_type": "stream",
          "name": "stdout",
          "text": [
            "0.31914893\n",
            "{'logits': array([-301.89496, -301.89496, -301.89496, -301.89496, -301.89496,\n",
            "       -301.89496, -301.89496, -301.89496, -301.89496, -301.89496,\n",
            "       -301.89496, -301.89496, -301.89496, -301.89496,  486.76266,\n",
            "        598.09393,  413.01172,  660.8555 ,  443.75336,  427.42703,\n",
            "        416.2052 ,  638.24194,  618.92584,  577.2086 ,  706.3458 ,\n",
            "        630.41614,  597.5854 ,  651.35706,  838.8364 ,  891.90076,\n",
            "        895.57965], dtype=float32), 'probabilities': array([0.0000000e+00, 0.0000000e+00, 0.0000000e+00, 0.0000000e+00,\n",
            "       0.0000000e+00, 0.0000000e+00, 0.0000000e+00, 0.0000000e+00,\n",
            "       0.0000000e+00, 0.0000000e+00, 0.0000000e+00, 0.0000000e+00,\n",
            "       0.0000000e+00, 0.0000000e+00, 0.0000000e+00, 0.0000000e+00,\n",
            "       0.0000000e+00, 0.0000000e+00, 0.0000000e+00, 0.0000000e+00,\n",
            "       0.0000000e+00, 0.0000000e+00, 0.0000000e+00, 0.0000000e+00,\n",
            "       0.0000000e+00, 0.0000000e+00, 0.0000000e+00, 0.0000000e+00,\n",
            "       2.2176872e-25, 2.4628980e-02, 9.7537094e-01], dtype=float32), 'class_ids': array([30]), 'classes': array([b'30'], dtype=object), 'all_class_ids': array([ 0,  1,  2,  3,  4,  5,  6,  7,  8,  9, 10, 11, 12, 13, 14, 15, 16,\n",
            "       17, 18, 19, 20, 21, 22, 23, 24, 25, 26, 27, 28, 29, 30],\n",
            "      dtype=int32), 'all_classes': array([b'0', b'1', b'2', b'3', b'4', b'5', b'6', b'7', b'8', b'9', b'10',\n",
            "       b'11', b'12', b'13', b'14', b'15', b'16', b'17', b'18', b'19',\n",
            "       b'20', b'21', b'22', b'23', b'24', b'25', b'26', b'27', b'28',\n",
            "       b'29', b'30'], dtype=object)} 30\n"
          ]
        }
      ],
      "source": [
        "import numpy as np\n",
        "import pandas as pd\n",
        "import tensorflow.compat.v2.feature_column as fc\n",
        "import tensorflow as tf\n",
        "from IPython.display import clear_output\n",
        "from sklearn.model_selection import train_test_split\n",
        "\n",
        "df = pd.read_csv('oasis_cross-sectional.csv')\n",
        "df=df.drop([\"Hand\",'SES'], axis=1)\n",
        "df=df.drop([\"Delay\"], axis=1)\n",
        "\n",
        "df.dropna(how=\"any\",inplace=True) #drop null rows\n",
        "df['MMSE'] = df[\"MMSE\"].astype(int)\n",
        "\n",
        "dftrain, dftest = train_test_split(df, test_size=.2, random_state=21)\n",
        "num_labels = df['MMSE'].unique()\n",
        "y_train = dftrain.pop(\"MMSE\")\n",
        "y_test = dftest.pop(\"MMSE\")\n",
        "\n",
        "feature_columns = []\n",
        "CATEGORICAL_COLUMNS = ['M/F']\n",
        "NUMERIC_COLUMNS=['Age','Educ','CDR','eTIV','nWBV','ASF']\n",
        "\n",
        "for col in CATEGORICAL_COLUMNS:\n",
        "  vocabulary = dftrain[col].unique()\n",
        "  feature_columns.append(tf.feature_column.categorical_column_with_vocabulary_list(col,vocabulary))\n",
        "for col in NUMERIC_COLUMNS:\n",
        "  feature_columns.append(tf.feature_column.numeric_column(col,dtype=tf.float32))\n",
        "\n",
        "def make_input_fn(train,labels,shuffle=False,num_epochs = 6,batch_size=64):\n",
        "  def input_fn():\n",
        "    ds = tf.data.Dataset.from_tensor_slices((dict(train),labels))\n",
        "    if shuffle:\n",
        "      ds.shuffle(1000)\n",
        "    ds = ds.batch(batch_size).repeat(num_epochs)\n",
        "    return ds\n",
        "  return input_fn\n",
        "\n",
        "train_fn = make_input_fn(dftrain,y_train,shuffle=True)\n",
        "test_fn = make_input_fn(dftest,y_test,shuffle=False,num_epochs=1)\n",
        "\n",
        "lin_est = tf.estimator.LinearClassifier(feature_columns=feature_columns,n_classes=31)\n",
        "\n",
        "lin_est.train(train_fn)\n",
        "result = lin_est.evaluate(test_fn)\n",
        "\n",
        "clear_output()\n",
        "print(result['accuracy'])\n",
        "result = list(lin_est.predict(test_fn))\n",
        "\n",
        "\n",
        "print(result[0],list(y_test)[0])\n",
        "\n",
        "##Getting low accuracy, likely due to lack of comprehensive data values and small dataset"
      ]
    },
    {
      "cell_type": "code",
      "source": [],
      "metadata": {
        "id": "2qkWyP_MvImc"
      },
      "execution_count": null,
      "outputs": []
    }
  ]
}